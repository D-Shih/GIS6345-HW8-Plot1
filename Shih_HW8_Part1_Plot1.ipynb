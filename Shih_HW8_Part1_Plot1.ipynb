{
 "cells": [
  {
   "cell_type": "code",
   "execution_count": 5,
   "metadata": {},
   "outputs": [],
   "source": [
    "# HW8, Part 1, Plot 1\n",
    "# Create histogram showing bed counts of Acute Care Hospitals in Massachusetts\n",
    "# modified from examples at:\n",
    "# https://pythonhow.com/accessing-dataframe-columns-rows-and-cells/\n",
    "# https://matplotlib.org/gallery/statistics/histogram_features.html#sphx-glr-gallery-statistics-histogram-features-py\n",
    "# https://matplotlib.org/3.1.3/gallery/statistics/hist.html\n",
    "# https://www.w3schools.com/python/python_ml_mean_median_mode.asp#:~:text=The%20mean%20value%20is%20the%20average%20value.%20To,The%20NumPy%20module%20has%20a%20method%20for%20this.\n",
    "import pandas as pd\n",
    "import matplotlib\n",
    "import matplotlib.pyplot as plt\n",
    "import numpy as np"
   ]
  },
  {
   "cell_type": "code",
   "execution_count": 6,
   "metadata": {},
   "outputs": [],
   "source": [
    "# From https://docs.digital.mass.gov/dataset/massgis-data-acute-care-hospitals\n",
    "hospitalData = pd.read_csv(\"HOSPITALS_PT.csv\")  #type(hospitalData) is pandas.core.frame.DataFrame"
   ]
  },
  {
   "cell_type": "code",
   "execution_count": 7,
   "metadata": {},
   "outputs": [],
   "source": [
    "x = hospitalData[\"BEDCOUNT\"]   #type(x) is pandas.core.series.Series"
   ]
  },
  {
   "cell_type": "code",
   "execution_count": 29,
   "metadata": {},
   "outputs": [
    {
     "data": {
      "image/png": "[encoded data removed]",
      "text/plain": [
       "<Figure size 432x288 with 1 Axes>"
      ]
     },
     "metadata": {
      "needs_background": "light"
     },
     "output_type": "display_data"
    }
   ],
   "source": [
    "num_bins = 20\n",
    "fig, ax = plt.subplots()    #type(fig) is matplotlib.figure.Figure \n",
    "                            #type(ax) is matplotlib.axes._subplots.AxesSubplot\n",
    "\n",
    "# find mean and standard deviation\n",
    "numValues = len(x)        #type(numValues) is int  #value is 75\n",
    "mu = np.mean(x)           #type(mu) is numpy.float64, #value is 199.5066666666\n",
    "sigma = np.std(x)         #type(sigma) is numpy.float64 #value is 169.27897080132416\n",
    "\n",
    "# the histogram of the data\n",
    "n, bins, patches = ax.hist(x, num_bins) #,density=True) #density=True changes the values on the y axis\n",
    "                            #type(n) is numpy.ndarray  #type(bins) is numpy.ndarray\n",
    "                            #type(patches) is matplotlib.container.BarContainer\n",
    "\n",
    "# add a 'best fit' line, only works with density=True parameter on hist() method\n",
    "# I multiplied the value of y by 4000 to approximate the appearance of the \n",
    "# 'best fit' line wihtout using the density=True parameter, it is not a \n",
    "# normal distribution\n",
    "y = (((1 / (np.sqrt(2 * np.pi) * sigma)) *\n",
    "     np.exp(-0.5 * (1 / sigma * (bins - mu))**2)))*4000  #type(y) is numpy.ndarray\n",
    "\n",
    "ax.plot(bins,y, '--')\n",
    "\n",
    "ax.set_xlabel(\"Bed Count\")\n",
    "ax.set_ylabel(\"Number of Hospitals\")\n",
    "ax.set_title(\"Histogram of Bed Count at Massachusetts Hospitals\")\n",
    "\n",
    "#Tweak spacing to prevent clipping of ylabel\n",
    "fig.tight_layout()\n",
    "plt.show()\n",
    "\n"
   ]
  },
  {
   "cell_type": "code",
   "execution_count": null,
   "metadata": {},
   "outputs": [],
   "source": []
  }
 ],
 "metadata": {
  "kernelspec": {
   "display_name": "geo_env",
   "language": "python",
   "name": "geo_env"
  },
  "language_info": {
   "codemirror_mode": {
    "name": "ipython",
    "version": 3
   },
   "file_extension": ".py",
   "mimetype": "text/x-python",
   "name": "python",
   "nbconvert_exporter": "python",
   "pygments_lexer": "ipython3",
   "version": "3.7.8"
  }
 },
 "nbformat": 4,
 "nbformat_minor": 4
}
